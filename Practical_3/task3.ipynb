{
 "cells": [
  {
   "cell_type": "code",
   "execution_count": 1,
   "metadata": {},
   "outputs": [
    {
     "name": "stderr",
     "output_type": "stream",
     "text": [
      "C:\\Users\\user\\AppData\\Local\\Temp\\ipykernel_10272\\1952907492.py:1: DeprecationWarning: \n",
      "Pyarrow will become a required dependency of pandas in the next major release of pandas (pandas 3.0),\n",
      "(to allow more performant data types, such as the Arrow string type, and better interoperability with other libraries)\n",
      "but was not found to be installed on your system.\n",
      "If this would cause problems for you,\n",
      "please provide us feedback at https://github.com/pandas-dev/pandas/issues/54466\n",
      "        \n",
      "  import pandas as pd\n"
     ]
    }
   ],
   "source": [
    "import pandas as pd\n",
    "from sklearn.model_selection import train_test_split\n",
    "from sklearn.linear_model import LinearRegression"
   ]
  },
  {
   "cell_type": "code",
   "execution_count": 2,
   "metadata": {},
   "outputs": [
    {
     "name": "stdout",
     "output_type": "stream",
     "text": [
      "[126362.87908255  84608.45383634  99677.49425147  46357.46068582\n",
      " 128750.48288504  50912.4174188  109741.35032702 100643.24281647\n",
      "  97599.27574594 113097.42524432]\n"
     ]
    }
   ],
   "source": [
    "df = pd.read_csv('50_Startups.csv')\n",
    "\n",
    "# Separate features (x) and target variable (y)\n",
    "x = df.drop('Profit', axis=1)\n",
    "y = df['Profit']\n",
    "\n",
    "# Handling categorical variables\n",
    "states = pd.get_dummies(x['State'], drop_first=True)\n",
    "x = x.drop('State', axis=1)\n",
    "x = pd.concat([x, states], axis=1)\n",
    "\n",
    "# Splitting the data\n",
    "x_train, x_test, y_train, y_test = train_test_split(x, y, test_size=0.2, random_state=42)\n",
    "\n",
    "# Creating and fitting the linear regression model\n",
    "LR = LinearRegression()\n",
    "LR.fit(x_train, y_train)\n",
    "\n",
    "# Making predictions on the test set\n",
    "y_prediction = LR.predict(x_test)\n",
    "\n",
    "# Displaying the predicted values\n",
    "print(y_prediction)"
   ]
  },
  {
   "cell_type": "code",
   "execution_count": 3,
   "metadata": {},
   "outputs": [
    {
     "name": "stdout",
     "output_type": "stream",
     "text": [
      "r2 score is 0.8987266414328636\n",
      "mean_sqrd_error is== 82010363.04430111\n",
      "root_mean_squared error is== 9055.957323458471\n"
     ]
    }
   ],
   "source": [
    "from sklearn.metrics import r2_score\n",
    "from sklearn.metrics import mean_squared_error\n",
    "import numpy as np\n",
    "#predicting the accuracy score\n",
    "score =r2_score(y_test, y_prediction)\n",
    "print('r2 score is',score)\n",
    "print('mean_sqrd_error is==', mean_squared_error(y_test,y_prediction))\n",
    "print('root_mean_squared error is==', np.sqrt(mean_squared_error(y_test,y_prediction)))"
   ]
  }
 ],
 "metadata": {
  "kernelspec": {
   "display_name": "Python 3",
   "language": "python",
   "name": "python3"
  },
  "language_info": {
   "codemirror_mode": {
    "name": "ipython",
    "version": 3
   },
   "file_extension": ".py",
   "mimetype": "text/x-python",
   "name": "python",
   "nbconvert_exporter": "python",
   "pygments_lexer": "ipython3",
   "version": "3.11.5"
  }
 },
 "nbformat": 4,
 "nbformat_minor": 2
}
