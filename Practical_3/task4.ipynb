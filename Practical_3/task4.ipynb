{
 "cells": [
  {
   "cell_type": "code",
   "execution_count": 1,
   "metadata": {},
   "outputs": [
    {
     "name": "stderr",
     "output_type": "stream",
     "text": [
      "C:\\Users\\user\\AppData\\Local\\Temp\\ipykernel_6088\\256808149.py:2: DeprecationWarning: \n",
      "Pyarrow will become a required dependency of pandas in the next major release of pandas (pandas 3.0),\n",
      "(to allow more performant data types, such as the Arrow string type, and better interoperability with other libraries)\n",
      "but was not found to be installed on your system.\n",
      "If this would cause problems for you,\n",
      "please provide us feedback at https://github.com/pandas-dev/pandas/issues/54466\n",
      "        \n",
      "  import pandas as pd\n"
     ]
    }
   ],
   "source": [
    "import numpy as np\n",
    "import pandas as pd\n",
    "import matplotlib.pyplot as plt\n"
   ]
  },
  {
   "cell_type": "code",
   "execution_count": 2,
   "metadata": {},
   "outputs": [
    {
     "data": {
      "text/html": [
       "<div>\n",
       "<style scoped>\n",
       "    .dataframe tbody tr th:only-of-type {\n",
       "        vertical-align: middle;\n",
       "    }\n",
       "\n",
       "    .dataframe tbody tr th {\n",
       "        vertical-align: top;\n",
       "    }\n",
       "\n",
       "    .dataframe thead th {\n",
       "        text-align: right;\n",
       "    }\n",
       "</style>\n",
       "<table border=\"1\" class=\"dataframe\">\n",
       "  <thead>\n",
       "    <tr style=\"text-align: right;\">\n",
       "      <th></th>\n",
       "      <th>TOWN</th>\n",
       "      <th>TRACT</th>\n",
       "      <th>LON</th>\n",
       "      <th>LAT</th>\n",
       "      <th>MEDV</th>\n",
       "      <th>CRIM</th>\n",
       "      <th>ZN</th>\n",
       "      <th>INDUS</th>\n",
       "      <th>CHAS</th>\n",
       "      <th>NOX</th>\n",
       "      <th>RM</th>\n",
       "      <th>AGE</th>\n",
       "      <th>DIS</th>\n",
       "      <th>RAD</th>\n",
       "      <th>TAX</th>\n",
       "      <th>PTRATIO</th>\n",
       "    </tr>\n",
       "  </thead>\n",
       "  <tbody>\n",
       "    <tr>\n",
       "      <th>0</th>\n",
       "      <td>Nahant</td>\n",
       "      <td>2011</td>\n",
       "      <td>-70.955</td>\n",
       "      <td>42.2550</td>\n",
       "      <td>24.0</td>\n",
       "      <td>0.00632</td>\n",
       "      <td>18.0</td>\n",
       "      <td>2.31</td>\n",
       "      <td>0</td>\n",
       "      <td>0.538</td>\n",
       "      <td>6.575</td>\n",
       "      <td>65.2</td>\n",
       "      <td>4.0900</td>\n",
       "      <td>1</td>\n",
       "      <td>296</td>\n",
       "      <td>15.3</td>\n",
       "    </tr>\n",
       "    <tr>\n",
       "      <th>1</th>\n",
       "      <td>Swampscott</td>\n",
       "      <td>2021</td>\n",
       "      <td>-70.950</td>\n",
       "      <td>42.2875</td>\n",
       "      <td>21.6</td>\n",
       "      <td>0.02731</td>\n",
       "      <td>0.0</td>\n",
       "      <td>7.07</td>\n",
       "      <td>0</td>\n",
       "      <td>0.469</td>\n",
       "      <td>6.421</td>\n",
       "      <td>78.9</td>\n",
       "      <td>4.9671</td>\n",
       "      <td>2</td>\n",
       "      <td>242</td>\n",
       "      <td>17.8</td>\n",
       "    </tr>\n",
       "    <tr>\n",
       "      <th>2</th>\n",
       "      <td>Swampscott</td>\n",
       "      <td>2022</td>\n",
       "      <td>-70.936</td>\n",
       "      <td>42.2830</td>\n",
       "      <td>34.7</td>\n",
       "      <td>0.02729</td>\n",
       "      <td>0.0</td>\n",
       "      <td>7.07</td>\n",
       "      <td>0</td>\n",
       "      <td>0.469</td>\n",
       "      <td>7.185</td>\n",
       "      <td>61.1</td>\n",
       "      <td>4.9671</td>\n",
       "      <td>2</td>\n",
       "      <td>242</td>\n",
       "      <td>17.8</td>\n",
       "    </tr>\n",
       "    <tr>\n",
       "      <th>3</th>\n",
       "      <td>Marblehead</td>\n",
       "      <td>2031</td>\n",
       "      <td>-70.928</td>\n",
       "      <td>42.2930</td>\n",
       "      <td>33.4</td>\n",
       "      <td>0.03237</td>\n",
       "      <td>0.0</td>\n",
       "      <td>2.18</td>\n",
       "      <td>0</td>\n",
       "      <td>0.458</td>\n",
       "      <td>6.998</td>\n",
       "      <td>45.8</td>\n",
       "      <td>6.0622</td>\n",
       "      <td>3</td>\n",
       "      <td>222</td>\n",
       "      <td>18.7</td>\n",
       "    </tr>\n",
       "    <tr>\n",
       "      <th>4</th>\n",
       "      <td>Marblehead</td>\n",
       "      <td>2032</td>\n",
       "      <td>-70.922</td>\n",
       "      <td>42.2980</td>\n",
       "      <td>36.2</td>\n",
       "      <td>0.06905</td>\n",
       "      <td>0.0</td>\n",
       "      <td>2.18</td>\n",
       "      <td>0</td>\n",
       "      <td>0.458</td>\n",
       "      <td>7.147</td>\n",
       "      <td>54.2</td>\n",
       "      <td>6.0622</td>\n",
       "      <td>3</td>\n",
       "      <td>222</td>\n",
       "      <td>18.7</td>\n",
       "    </tr>\n",
       "  </tbody>\n",
       "</table>\n",
       "</div>"
      ],
      "text/plain": [
       "         TOWN  TRACT     LON      LAT  MEDV     CRIM    ZN  INDUS  CHAS  \\\n",
       "0      Nahant   2011 -70.955  42.2550  24.0  0.00632  18.0   2.31     0   \n",
       "1  Swampscott   2021 -70.950  42.2875  21.6  0.02731   0.0   7.07     0   \n",
       "2  Swampscott   2022 -70.936  42.2830  34.7  0.02729   0.0   7.07     0   \n",
       "3  Marblehead   2031 -70.928  42.2930  33.4  0.03237   0.0   2.18     0   \n",
       "4  Marblehead   2032 -70.922  42.2980  36.2  0.06905   0.0   2.18     0   \n",
       "\n",
       "     NOX     RM   AGE     DIS  RAD  TAX  PTRATIO  \n",
       "0  0.538  6.575  65.2  4.0900    1  296     15.3  \n",
       "1  0.469  6.421  78.9  4.9671    2  242     17.8  \n",
       "2  0.469  7.185  61.1  4.9671    2  242     17.8  \n",
       "3  0.458  6.998  45.8  6.0622    3  222     18.7  \n",
       "4  0.458  7.147  54.2  6.0622    3  222     18.7  "
      ]
     },
     "execution_count": 2,
     "metadata": {},
     "output_type": "execute_result"
    }
   ],
   "source": [
    "dataset = pd.read_csv(\"Boston.csv\")\n",
    "dataset.head()"
   ]
  },
  {
   "cell_type": "code",
   "execution_count": 3,
   "metadata": {},
   "outputs": [
    {
     "data": {
      "text/plain": [
       "Text(0.5, 1.0, 'Prices vs Crime rate')"
      ]
     },
     "execution_count": 3,
     "metadata": {},
     "output_type": "execute_result"
    },
    {
     "data": {
      "image/png": "[encoded data removed]",
      "text/plain": [
       "<Figure size 640x480 with 1 Axes>"
      ]
     },
     "metadata": {},
     "output_type": "display_data"
    }
   ],
   "source": [
    "plt.scatter(dataset['CRIM'],dataset['MEDV'])\n",
    "plt.xlabel('Per capita crime rate by town')\n",
    "plt.ylabel('Price')\n",
    "plt.title('Prices vs Crime rate')"
   ]
  },
  {
   "cell_type": "code",
   "execution_count": 4,
   "metadata": {},
   "outputs": [],
   "source": [
    "# Assuming your dataset is a pandas DataFrame\n",
    "X = dataset.drop('MEDV', axis=1)  # Drop the 'MEDV' column to get predictors\n",
    "y = dataset['MEDV']  # Select only the 'MEDV' column as the target\n",
    "\n",
    "from sklearn.model_selection import train_test_split\n",
    "\n",
    "# Split the data into training and test sets\n",
    "x_train, x_test, y_train, y_test = train_test_split(X, y, test_size=0.3, random_state=42)\n"
   ]
  },
  {
   "cell_type": "code",
   "execution_count": 8,
   "metadata": {},
   "outputs": [],
   "source": [
    "X = pd.get_dummies(X)\n",
    "\n",
    "from sklearn.model_selection import train_test_split\n",
    "from sklearn.linear_model import LinearRegression\n",
    "\n",
    "x_train, x_test, y_train, y_test = train_test_split(X, y, test_size=0.3, random_state=42)\n",
    "\n",
    "regressor = LinearRegression()\n",
    "regressor.fit(x_train, y_train)\n",
    "y_pred = regressor.predict(x_test)"
   ]
  },
  {
   "cell_type": "code",
   "execution_count": 9,
   "metadata": {},
   "outputs": [
    {
     "name": "stdout",
     "output_type": "stream",
     "text": [
      "Coefficient: \n",
      " [-6.82420832e-02  1.35769734e+01 -2.40893031e+01 -6.59747851e-02\n",
      "  2.92135084e-01 -1.82249367e+00 -1.44889999e+00 -4.24637568e+01\n",
      "  6.76639982e+00 -8.44620779e-02 -7.45648414e-01 -5.94257576e+00\n",
      " -4.86986784e-02 -5.35624672e+00  1.09801721e+01 -2.28800803e+01\n",
      " -4.04275322e+01  5.10054344e+00 -5.94296272e+01 -4.75726824e+01\n",
      " -3.12636864e+01 -1.21254117e+01 -3.55889473e+01  1.23667014e+01\n",
      " -1.75774184e+00 -2.00798687e+01  2.12447579e+01  3.64286178e+01\n",
      "  1.73287379e+01 -2.81672883e+01 -9.01405105e+00  2.17233268e+00\n",
      " -2.10392988e+01  2.88888665e+01  6.76522481e+01  2.37989789e+01\n",
      "  8.34067641e+00  4.27086135e+01  4.59346371e+01 -4.82579227e+01\n",
      "  5.36952348e+00 -5.19912889e+01 -1.03532768e+02  3.14377427e+01\n",
      " -2.45467398e+01  7.36681634e+01  3.11489262e+01  5.01055283e+01\n",
      " -7.54951657e-15  2.22044605e-15  9.49098273e+01  1.35430575e+01\n",
      "  7.04512590e+01 -4.77264532e+00 -1.77635684e-15 -6.99013946e+01\n",
      " -1.19119458e+02  2.80045956e+01 -9.74647968e+01 -1.00219268e+02\n",
      "  8.48414984e+01 -2.10297161e+01  3.17716455e+01 -2.12760181e+01\n",
      " -9.36497269e+01 -1.59351747e+01  5.31937910e+01  2.66453526e-15\n",
      "  2.11649610e+01  3.13592826e+01  5.12399885e+01 -1.04064034e+01\n",
      " -4.49380270e+01  6.83412571e+01  5.11985389e+01 -9.68438348e+01\n",
      "  9.85524678e+01  6.27911563e+01  4.32277885e+01 -8.01361207e+00\n",
      " -8.14910240e+01  1.00397079e+02 -9.73120122e+01 -7.73566251e+01\n",
      "  7.87592237e+01  8.21434729e+00 -9.26269293e+00  6.45837294e+01\n",
      "  4.90071403e+00 -2.07578319e+01 -1.08092260e+02 -8.88178420e-16\n",
      " -1.08019309e+01  3.11972105e+01  3.37398310e+01  3.89218364e+01\n",
      " -3.64475013e+01  2.82180521e+01  0.00000000e+00  0.00000000e+00\n",
      "  2.72444277e+01  6.56259014e+01 -1.85395168e+00 -1.61125703e+01\n",
      " -1.00053961e+02  1.97181372e+01]\n",
      "Mean squared error: 494.76\n",
      "Explained variance score: -5.61\n"
     ]
    }
   ],
   "source": [
    "from sklearn.metrics import mean_squared_error,r2_score\n",
    "#The coefficients\n",
    "print('Coefficient: \\n', regressor.coef_)\n",
    "#The mean squared error\n",
    "print('Mean squared error: {:.2f}'.format(mean_squared_error(y_test, y_pred)))\n",
    "\n",
    "#Explained variance score : 1 is perfect prediction\n",
    "\n",
    "print('Explained variance score: {:.2f}'.format(r2_score(y_test,y_pred)))"
   ]
  },
  {
   "cell_type": "code",
   "execution_count": 11,
   "metadata": {},
   "outputs": [
    {
     "data": {
      "text/plain": [
       "Text(0.5, 1.0, 'Prices vs Predicted prices: $Y_i$ vs $\\\\hat{Y}_i$')"
      ]
     },
     "execution_count": 11,
     "metadata": {},
     "output_type": "execute_result"
    },
    {
     "data": {
      "image/png": "[encoded data removed]",
      "text/plain": [
       "<Figure size 640x480 with 1 Axes>"
      ]
     },
     "metadata": {},
     "output_type": "display_data"
    }
   ],
   "source": [
    "plt.xlabel(\"Prices: $Y_i$\")\n",
    "plt.scatter(y_test,y_pred)\n",
    "plt.ylabel(\"Predicted prices: $\\hat{Y}_i$\")\n",
    "plt.title(\"Prices vs Predicted prices: $Y_i$ vs $\\hat{Y}_i$\")\n"
   ]
  }
 ],
 "metadata": {
  "kernelspec": {
   "display_name": "Python 3",
   "language": "python",
   "name": "python3"
  },
  "language_info": {
   "codemirror_mode": {
    "name": "ipython",
    "version": 3
   },
   "file_extension": ".py",
   "mimetype": "text/x-python",
   "name": "python",
   "nbconvert_exporter": "python",
   "pygments_lexer": "ipython3",
   "version": "3.11.5"
  }
 },
 "nbformat": 4,
 "nbformat_minor": 2
}
