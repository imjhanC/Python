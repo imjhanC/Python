{
 "cells": [
  {
   "cell_type": "code",
   "execution_count": 2,
   "metadata": {},
   "outputs": [
    {
     "name": "stderr",
     "output_type": "stream",
     "text": [
      "C:\\Users\\user\\AppData\\Local\\Temp\\ipykernel_9696\\523927172.py:3: DeprecationWarning: \n",
      "Pyarrow will become a required dependency of pandas in the next major release of pandas (pandas 3.0),\n",
      "(to allow more performant data types, such as the Arrow string type, and better interoperability with other libraries)\n",
      "but was not found to be installed on your system.\n",
      "If this would cause problems for you,\n",
      "please provide us feedback at https://github.com/pandas-dev/pandas/issues/54466\n",
      "        \n",
      "  import pandas as pd\n"
     ]
    },
    {
     "name": "stdout",
     "output_type": "stream",
     "text": [
      "\n",
      "SVM Evaluation:\n",
      "\n",
      "              precision    recall  f1-score   support\n",
      "\n",
      "           0       0.86      0.86      0.86        29\n",
      "           1       0.88      0.88      0.88        32\n",
      "\n",
      "    accuracy                           0.87        61\n",
      "   macro avg       0.87      0.87      0.87        61\n",
      "weighted avg       0.87      0.87      0.87        61\n",
      "\n",
      "\n",
      "SVm confusion matrix:\n",
      "\n",
      "[[25  4]\n",
      " [ 4 28]]\n",
      "\n",
      "SVM RBF Evaluation:\n",
      "\n",
      "              precision    recall  f1-score   support\n",
      "\n",
      "           0       0.79      0.52      0.62        29\n",
      "           1       0.67      0.88      0.76        32\n",
      "\n",
      "    accuracy                           0.70        61\n",
      "   macro avg       0.73      0.70      0.69        61\n",
      "weighted avg       0.73      0.70      0.69        61\n",
      "\n",
      "\n",
      "SVM RBF confusion matrix:\n",
      "\n",
      "[[15 14]\n",
      " [ 4 28]]\n"
     ]
    }
   ],
   "source": [
    "from sklearn.svm import SVC \n",
    "import numpy as np\n",
    "import pandas as pd\n",
    "from sklearn.model_selection import train_test_split\n",
    "from sklearn.metrics import classification_report,confusion_matrix\n",
    "\n",
    "data = pd.read_csv('heart.csv')\n",
    "X = data.drop('output', axis=1)  # Features\n",
    "y = data['output']  # Target variable\n",
    "x_train, x_test, y_train, y_test = train_test_split(X, y, test_size=0.2, random_state=42)\n",
    "\n",
    "svm = SVC(kernel='linear') \n",
    "svm.fit(x_train, y_train) \n",
    "y_pred = svm.predict(x_test) \n",
    "print(\"\\nSVM Evaluation:\\n\") \n",
    "print(classification_report(y_test, y_pred)) \n",
    "print(\"\\nSVm confusion matrix:\\n\") \n",
    "cm = confusion_matrix(y_test, y_pred) \n",
    "print(cm) \n",
    "svm = SVC(kernel='rbf') \n",
    "svm.fit(x_train, y_train) \n",
    "y_pred = svm.predict(x_test) \n",
    "print(\"\\nSVM RBF Evaluation:\\n\") \n",
    "print(classification_report(y_test, y_pred)) \n",
    "print(\"\\nSVM RBF confusion matrix:\\n\") \n",
    "cm = confusion_matrix(y_test, y_pred) \n",
    "print(cm)"
   ]
  }
 ],
 "metadata": {
  "kernelspec": {
   "display_name": "Python 3",
   "language": "python",
   "name": "python3"
  },
  "language_info": {
   "codemirror_mode": {
    "name": "ipython",
    "version": 3
   },
   "file_extension": ".py",
   "mimetype": "text/x-python",
   "name": "python",
   "nbconvert_exporter": "python",
   "pygments_lexer": "ipython3",
   "version": "3.11.5"
  }
 },
 "nbformat": 4,
 "nbformat_minor": 2
}
