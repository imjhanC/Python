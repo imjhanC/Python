{
 "cells": [
  {
   "cell_type": "code",
   "execution_count": 2,
   "metadata": {},
   "outputs": [
    {
     "name": "stdout",
     "output_type": "stream",
     "text": [
      "Accuracy of logistic regression classifier ::  0.8688524590163934\n",
      "Accuracy of logistic regression classifier after removing features::  0.8852459016393442\n"
     ]
    }
   ],
   "source": [
    "import numpy as np\n",
    "import pandas as pd\n",
    "from sklearn.model_selection import train_test_split\n",
    "from sklearn.linear_model import LogisticRegression\n",
    "from sklearn import metrics\n",
    "\n",
    "# Assuming you already have your data loaded and preprocessed, and x_train, x_test, y_train, y_test are defined\n",
    "data = pd.read_csv('heart.csv')\n",
    "X = data.drop('output', axis=1)  # Features\n",
    "y = data['output']  # Target variable\n",
    "x_train, x_test, y_train, y_test = train_test_split(X, y, test_size=0.2, random_state=42)\n",
    "\n",
    "# Building classification models\n",
    "names = ['Age', 'Sex', 'cp', 'trtbps', 'chol', 'fbs', 'restecg', 'thalachh', 'exng', 'oldpeak', 'slp', 'caa', 'thall']\n",
    "\n",
    "# ****************Logistic Regression*****************\n",
    "logReg = LogisticRegression(random_state=0, solver='liblinear')\n",
    "logReg.fit(x_train, y_train)\n",
    "\n",
    "# Check accuracy of Logistic Regression\n",
    "y_pred_logReg = logReg.predict(x_test)\n",
    "\n",
    "# Model Accuracy\n",
    "print(\"Accuracy of logistic regression classifier :: \", metrics.accuracy_score(y_test, y_pred_logReg))\n",
    "\n",
    "# Removing the features with low correlation and checking effect on accuracy of model\n",
    "x_train1 = x_train.drop([\"fbs\", \"trtbps\", \"chol\", \"restecg\"], axis=1)\n",
    "x_test1 = x_test.drop([\"fbs\", \"trtbps\", \"chol\", \"restecg\"], axis=1)\n",
    "\n",
    "logReg1 = LogisticRegression(random_state=0, solver='liblinear').fit(x_train1, y_train)\n",
    "y_pred_logReg1 = logReg1.predict(x_test1)\n",
    "\n",
    "print(\"Accuracy of logistic regression classifier after removing features:: \", metrics.accuracy_score(y_test, y_pred_logReg1))\n",
    "\n"
   ]
  }
 ],
 "metadata": {
  "kernelspec": {
   "display_name": "Python 3",
   "language": "python",
   "name": "python3"
  },
  "language_info": {
   "codemirror_mode": {
    "name": "ipython",
    "version": 3
   },
   "file_extension": ".py",
   "mimetype": "text/x-python",
   "name": "python",
   "nbconvert_exporter": "python",
   "pygments_lexer": "ipython3",
   "version": "3.11.5"
  }
 },
 "nbformat": 4,
 "nbformat_minor": 2
}
